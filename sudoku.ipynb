{
 "cells": [
  {
   "cell_type": "code",
   "execution_count": 9,
   "id": "fb6b885e",
   "metadata": {},
   "outputs": [
    {
     "name": "stdout",
     "output_type": "stream",
     "text": [
      "4 8 3 9 2 1 6 5 7\n",
      "9 6 7 3 4 5 8 2 1\n",
      "2 5 1 8 7 6 4 9 3\n",
      "5 4 8 1 3 2 9 7 6\n",
      "7 2 9 5 6 4 1 3 8\n",
      "1 3 6 7 9 8 2 4 5\n",
      "3 7 2 6 8 9 5 1 4\n",
      "8 1 4 2 5 3 7 6 9\n",
      "6 9 5 4 1 7 3 8 2\n"
     ]
    }
   ],
   "source": [
    "def is_valid(grid, row, col, num):\n",
    "    # Check row, column, and 3x3 subgrid\n",
    "    if num in grid[row] or num in [grid[i][col] for i in range(9)]:\n",
    "        return False\n",
    "    subgrid = [grid[r][c] for r in range(row//3*3, row//3*3+3) for c in range(col//3*3, col//3*3+3)]\n",
    "    return num not in subgrid\n",
    "\n",
    "def solve_sudoku(grid):\n",
    "    for row in range(9):\n",
    "        for col in range(9):\n",
    "            if grid[row][col] == 0:\n",
    "                for num in range(1, 10):\n",
    "                    if is_valid(grid, row, col, num):\n",
    "                        grid[row][col] = num\n",
    "                        if solve_sudoku(grid):\n",
    "                            return True\n",
    "                        grid[row][col] = 0\n",
    "                return False\n",
    "    return True\n",
    "\n",
    "def print_sudoku(grid):\n",
    "    for row in grid:\n",
    "        print(\" \".join(map(str, row)))\n",
    "\n",
    "# Example Sudoku puzzle (0 represents empty cells)\n",
    "initial_grid = [\n",
    "    [0, 0, 3, 0, 2, 0, 6, 0, 0],\n",
    "    [9, 0, 0, 3, 0, 5, 0, 0, 1],\n",
    "    [0, 0, 1, 8, 0, 6, 4, 0, 0],\n",
    "    [0, 0, 8, 1, 0, 2, 9, 0, 0],\n",
    "    [7, 0, 0, 0, 0, 0, 0, 0, 8],\n",
    "    [0, 0, 6, 7, 0, 8, 2, 0, 0],\n",
    "    [0, 0, 2, 6, 0, 9, 5, 0, 0],\n",
    "    [8, 0, 0, 2, 0, 3, 0, 0, 9],\n",
    "    [0, 0, 5, 0, 1, 0, 3, 0, 0]\n",
    "]\n",
    "\n",
    "if solve_sudoku(initial_grid):\n",
    "    print_sudoku(initial_grid)\n",
    "else:\n",
    "    print(\"No solution exists.\")\n"
   ]
  }
 ],
 "metadata": {
  "kernelspec": {
   "display_name": "Python 3 (ipykernel)",
   "language": "python",
   "name": "python3"
  },
  "language_info": {
   "codemirror_mode": {
    "name": "ipython",
    "version": 3
   },
   "file_extension": ".py",
   "mimetype": "text/x-python",
   "name": "python",
   "nbconvert_exporter": "python",
   "pygments_lexer": "ipython3",
   "version": "3.11.5"
  }
 },
 "nbformat": 4,
 "nbformat_minor": 5
}
