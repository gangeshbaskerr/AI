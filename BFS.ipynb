{
 "cells": [
  {
   "cell_type": "code",
   "execution_count": 22,
   "id": "cc039bc3-ceec-4470-9640-a4a2c837203f",
   "metadata": {},
   "outputs": [],
   "source": [
    "##ADJACENCY LIST\n",
    "from collections import defaultdict\n",
    "from collections import deque\n",
    "\n",
    "class graph:\n",
    "    def __init__(self):\n",
    "        self.adjacent=defaultdict(list)\n",
    "        self.parent=defaultdict()\n",
    "    def add_edges(self,f,t):\n",
    "        self.adjacent[f].append(t)\n",
    "    def bfs(self,s,g):\n",
    "        visited=defaultdict(bool)\n",
    "        q=deque()\n",
    "        q.append(s)\n",
    "        while q:\n",
    "            ele=q[0]\n",
    "            q.popleft()\n",
    "            visited[ele]=True\n",
    "            for child in self.adjacent[ele]:\n",
    "                if child not in visited:\n",
    "                    self.parent[child]=ele\n",
    "                    if child==g:\n",
    "                        print(\"shortest path is\")\n",
    "                        self.printpath(child)\n",
    "                        return\n",
    "                    q.append(child)\n",
    "                    visited[child]=True\n",
    "        print(\"target element not found\")\n",
    "    def printpath(self,c):\n",
    "        if c in self.parent:\n",
    "            self.printpath(self.parent[c])\n",
    "            print(c,\"-->\",end=\" \")\n",
    "        else:\n",
    "            print(c,\"-->\",end=\" \")"
   ]
  },
  {
   "cell_type": "code",
   "execution_count": 27,
   "id": "4627d1fc-724d-4381-90a1-6d61e7f506a0",
   "metadata": {},
   "outputs": [
    {
     "name": "stdout",
     "output_type": "stream",
     "text": [
      "shortest path is\n",
      "A --> C --> E --> K --> "
     ]
    }
   ],
   "source": [
    "if __name__=='__main__':\n",
    "    g=graph()\n",
    "    g.add_edges(\"A\",\"F\")\n",
    "    g.add_edges(\"A\",\"C\")\n",
    "    g.add_edges(\"A\",\"B\")\n",
    "    g.add_edges(\"B\",\"C\")\n",
    "    g.add_edges(\"B\",\"A\")\n",
    "    g.add_edges(\"B\",\"G\")\n",
    "    g.add_edges(\"C\",\"A\")\n",
    "    g.add_edges(\"C\",\"B\")\n",
    "    g.add_edges(\"C\",\"D\")\n",
    "    g.add_edges(\"C\",\"E\")\n",
    "    g.add_edges(\"C\",\"F\")\n",
    "    g.add_edges(\"C\",\"G\")\n",
    "    g.add_edges(\"D\",\"C\")\n",
    "    g.add_edges(\"D\",\"F\")\n",
    "    g.add_edges(\"D\",\"E\")\n",
    "    g.add_edges(\"D\",\"J\")\n",
    "    g.add_edges(\"E\",\"C\")\n",
    "    g.add_edges(\"E\",\"D\")\n",
    "    g.add_edges(\"E\",\"G\")\n",
    "    g.add_edges(\"E\",\"J\")\n",
    "    g.add_edges(\"E\",\"K\")\n",
    "    g.add_edges(\"F\",\"A\")\n",
    "    g.add_edges(\"F\",\"C\")\n",
    "    g.add_edges(\"F\",\"D\")\n",
    "    g.add_edges(\"G\",\"B\")\n",
    "    g.add_edges(\"G\",\"C\")\n",
    "    g.add_edges(\"G\",\"E\")\n",
    "    g.add_edges(\"G\",\"K\")\n",
    "    g.add_edges(\"J\",\"D\")\n",
    "    g.add_edges(\"J\",\"E\")\n",
    "    g.add_edges(\"J\",\"K\")\n",
    "    g.add_edges(\"K\",\"E\")\n",
    "    g.add_edges(\"K\",\"G\")\n",
    "    g.add_edges(\"K\",\"J\")\n",
    "    g.bfs(\"A\",\"K\")"
   ]
  }
 ],
 "metadata": {
  "kernelspec": {
   "display_name": "Python 3 (ipykernel)",
   "language": "python",
   "name": "python3"
  },
  "language_info": {
   "codemirror_mode": {
    "name": "ipython",
    "version": 3
   },
   "file_extension": ".py",
   "mimetype": "text/x-python",
   "name": "python",
   "nbconvert_exporter": "python",
   "pygments_lexer": "ipython3",
   "version": "3.11.5"
  }
 },
 "nbformat": 4,
 "nbformat_minor": 5
}
