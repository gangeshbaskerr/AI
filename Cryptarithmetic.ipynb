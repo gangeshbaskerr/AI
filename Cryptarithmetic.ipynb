{
 "cells": [
  {
   "cell_type": "code",
   "execution_count": 1,
   "id": "82da488c",
   "metadata": {},
   "outputs": [],
   "source": [
    "def find_value(word, assigned):\n",
    "    return int(\"\".join(str(assigned[char]) for char in word))\n",
    "\n",
    "def is_valid_assignment(word1, word2, result, assigned):\n",
    "    return all(assigned[word[0]] != 0 for word in (word1, word2, result))\n",
    "\n",
    "def solve_recursively(word1, word2, result, letters, assigned, solutions):\n",
    "    if not letters:\n",
    "        if is_valid_assignment(word1, word2, result, assigned):\n",
    "            num1, num2, num_res = find_value(word1, assigned), find_value(word2, assigned), find_value(result, assigned)\n",
    "            if num1 + num2 == num_res:\n",
    "                solutions.append((f'{num1} + {num2} = {num_res}', assigned.copy()))\n",
    "        return\n",
    "    \n",
    "    letter = letters.pop()\n",
    "    for num in range(10):\n",
    "        if num not in assigned.values():\n",
    "            assigned[letter] = num\n",
    "            solve_recursively(word1, word2, result, letters, assigned, solutions)\n",
    "            assigned.pop(letter)\n",
    "    letters.append(letter)"
   ]
  },
  {
   "cell_type": "code",
   "execution_count": 2,
   "id": "c62ad75e",
   "metadata": {},
   "outputs": [],
   "source": [
    "def solve(word1, word2, result):\n",
    "    letters = list(set(word1 + word2 + result))\n",
    "    if len(result) > max(len(word1), len(word2)) + 1 or len(letters) > 10:\n",
    "        print('0 Solutions!')\n",
    "        return\n",
    "\n",
    "    solutions = []\n",
    "    solve_recursively(word1, word2, result, letters, {}, solutions)\n",
    "    if solutions:\n",
    "        print('\\nSolutions:')\n",
    "        for equation, mapping in solutions:\n",
    "            print(f'{equation}\\t{mapping}')"
   ]
  },
  {
   "cell_type": "code",
   "execution_count": 3,
   "id": "eacf2cb6",
   "metadata": {},
   "outputs": [
    {
     "name": "stdout",
     "output_type": "stream",
     "text": [
      "CRYPTARITHMETIC PUZZLE SOLVER\n",
      "WORD1 + WORD2 = RESULT\n",
      "Enter WORD1: SEND\n",
      "Enter WORD2: MORE\n",
      "Enter RESULT: MONEY\n",
      "\n",
      "Solutions:\n",
      "9567 + 1085 = 10652\t{'O': 0, 'R': 8, 'M': 1, 'E': 5, 'Y': 2, 'N': 6, 'S': 9, 'D': 7}\n"
     ]
    }
   ],
   "source": [
    "print('CRYPTARITHMETIC PUZZLE SOLVER')\n",
    "print('WORD1 + WORD2 = RESULT')\n",
    "word1 = input('Enter WORD1: ').upper()\n",
    "word2 = input('Enter WORD2: ').upper()\n",
    "result = input('Enter RESULT: ').upper()\n",
    "\n",
    "if not all(w.isalpha() for w in (word1, word2, result)):\n",
    "    raise ValueError('Inputs should only consist of alphabets.')\n",
    "\n",
    "solve(word1, word2, result)"
   ]
  },
  {
   "cell_type": "code",
   "execution_count": null,
   "id": "b8bc879c",
   "metadata": {},
   "outputs": [],
   "source": []
  }
 ],
 "metadata": {
  "kernelspec": {
   "display_name": "Python 3 (ipykernel)",
   "language": "python",
   "name": "python3"
  },
  "language_info": {
   "codemirror_mode": {
    "name": "ipython",
    "version": 3
   },
   "file_extension": ".py",
   "mimetype": "text/x-python",
   "name": "python",
   "nbconvert_exporter": "python",
   "pygments_lexer": "ipython3",
   "version": "3.11.5"
  }
 },
 "nbformat": 4,
 "nbformat_minor": 5
}
