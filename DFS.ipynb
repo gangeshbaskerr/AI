{
 "cells": [
  {
   "cell_type": "code",
   "execution_count": 1,
   "id": "c8d30521-d9af-41cc-9fbe-f5a3328215e2",
   "metadata": {},
   "outputs": [
    {
     "name": "stdout",
     "output_type": "stream",
     "text": [
      "Solution path found: ['A', 'B', 'G', 'K']\n"
     ]
    }
   ],
   "source": [
    "from collections import deque\n",
    "\n",
    "def dfs(graph, initial, goal):\n",
    "    stack = [initial]\n",
    "    explored = set()\n",
    "    parents = {initial: None}\n",
    "    \n",
    "    while stack:\n",
    "        node = stack.pop()\n",
    "        if node not in explored:\n",
    "            explored.add(node)\n",
    "            if goal_test(node):\n",
    "                return construct_path(node, parents)\n",
    "            for neighbor in graph[node]:\n",
    "                if neighbor not in explored:\n",
    "                    parents[neighbor] = node\n",
    "                    stack.append(neighbor)\n",
    "    return None\n",
    "\n",
    "def construct_path(node, parents):\n",
    "    path = []\n",
    "    current = node\n",
    "    while current is not None:\n",
    "        path.append(current)\n",
    "        current = parents[current]\n",
    "    path.reverse()\n",
    "    return path\n",
    "\n",
    "if __name__ == \"__main__\":\n",
    "    graph = {\n",
    "        'A': ['F', 'C', 'B'],\n",
    "        'B': ['A', 'C', 'G'],\n",
    "        'C': ['A', 'B', 'D', 'E', 'F', 'G'],\n",
    "        'D': ['C', 'F', 'E', 'J'],\n",
    "        'E': ['C', 'D', 'G', 'J', 'K'],\n",
    "        'F': ['A', 'C', 'D'],\n",
    "        'G': ['B', 'C', 'E', 'K'],\n",
    "        'J': ['D', 'E', 'K'],\n",
    "        'K': ['E', 'G', 'J']\n",
    "    }\n",
    "    \n",
    "    initial_state = 'A'\n",
    "    goal_state = 'K'\n",
    "    \n",
    "    def goal_test(state):\n",
    "        return state == goal_state\n",
    "    \n",
    "    solution = dfs(graph, initial_state, goal_test)\n",
    "    if solution:\n",
    "        print(f\"Solution path found: {solution}\")\n",
    "    else:\n",
    "        print(\"No solution found.\")\n"
   ]
  },
  {
   "cell_type": "code",
   "execution_count": null,
   "id": "48f8c724-aecc-40ad-87df-a9f2c063f178",
   "metadata": {},
   "outputs": [],
   "source": []
  }
 ],
 "metadata": {
  "kernelspec": {
   "display_name": "Python 3 (ipykernel)",
   "language": "python",
   "name": "python3"
  },
  "language_info": {
   "codemirror_mode": {
    "name": "ipython",
    "version": 3
   },
   "file_extension": ".py",
   "mimetype": "text/x-python",
   "name": "python",
   "nbconvert_exporter": "python",
   "pygments_lexer": "ipython3",
   "version": "3.11.5"
  }
 },
 "nbformat": 4,
 "nbformat_minor": 5
}
