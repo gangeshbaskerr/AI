{
 "cells": [
  {
   "cell_type": "code",
   "execution_count": 1,
   "id": "b74881ca",
   "metadata": {},
   "outputs": [],
   "source": [
    "from collections import deque\n",
    "\n",
    "def solve_bridge_crossing():\n",
    "    # State format: (flashlight_side, you, wolf, goat, cabbage, total_time)\n",
    "    start_state = (0, 0, 0, 0, 0, 0)  # Everyone starts on the left side with 0 time spent\n",
    "    \n",
    "    # Goal state: everyone on the right side\n",
    "    goal_state = (1, 1, 1, 1, 1)\n",
    "    \n",
    "    # BFS queue: stores (current state, path taken)\n",
    "    queue = deque([(start_state, [start_state])])\n",
    "    \n",
    "    # Set to store visited states\n",
    "    visited = set([start_state])\n",
    "    \n",
    "    # Crossing times for each character (you, wolf, goat, cabbage)\n",
    "    crossing_times = [1, 2, 5, 10]\n",
    "    \n",
    "    # BFS loop\n",
    "    while queue:\n",
    "        current_state, path = queue.popleft()\n",
    "        flashlight_side, you, wolf, goat, cabbage, total_time = current_state\n",
    "        \n",
    "        # Check if we have reached the goal\n",
    "        if (flashlight_side, you, wolf, goat, cabbage) == goal_state:\n",
    "            return path, total_time\n",
    "        \n",
    "        # Generate possible next states\n",
    "        next_states = generate_next_states(current_state, crossing_times)\n",
    "        \n",
    "        for next_state in next_states:\n",
    "            if next_state not in visited:\n",
    "                visited.add(next_state)\n",
    "                queue.append((next_state, path + [next_state]))\n",
    "\n",
    "    # No solution found\n",
    "    return None, None\n",
    "\n",
    "def generate_next_states(state, crossing_times):\n",
    "    flashlight_side, you, wolf, goat, cabbage, total_time = state\n",
    "    current_positions = [you, wolf, goat, cabbage]\n",
    "    next_states = []\n",
    "    \n",
    "    # Determine the direction of crossing based on the flashlight's position\n",
    "    if flashlight_side == 0:  # Moving from left to right\n",
    "        possible_moves = [(i, j) for i in range(4) for j in range(i, 4) if current_positions[i] == 0 and current_positions[j] == 0]\n",
    "    else:  # Moving from right to left\n",
    "        possible_moves = [(i, j) for i in range(4) for j in range(i, 4) if current_positions[i] == 1 and current_positions[j] == 1]\n",
    "    \n",
    "    for i, j in possible_moves:\n",
    "        # Determine the time taken for this move\n",
    "        crossing_time = max(crossing_times[i], crossing_times[j])\n",
    "        \n",
    "        # Update positions after crossing\n",
    "        new_positions = current_positions[:]\n",
    "        new_positions[i] = 1 - new_positions[i]  # Flip the side\n",
    "        new_positions[j] = 1 - new_positions[j]  # Flip the side\n",
    "        \n",
    "        # Update the flashlight's position and total time\n",
    "        new_flashlight_side = 1 - flashlight_side\n",
    "        new_total_time = total_time + crossing_time\n",
    "        \n",
    "        # Create the new state\n",
    "        new_state = (new_flashlight_side, *new_positions, new_total_time)\n",
    "        \n",
    "        # Add to the list of next valid states\n",
    "        next_states.append(new_state)\n",
    "    \n",
    "    return next_states\n",
    "\n"
   ]
  },
  {
   "cell_type": "code",
   "execution_count": 2,
   "id": "4274fb40",
   "metadata": {},
   "outputs": [
    {
     "name": "stdout",
     "output_type": "stream",
     "text": [
      "Solution found in 13 minutes:\n",
      "Flashlight: Left, You: Left, Wolf: Left, Goat: Left, Cabbage: Left, Time: 0 minutes\n",
      "Flashlight: Right, You: Right, Wolf: Right, Goat: Left, Cabbage: Left, Time: 2 minutes\n",
      "Flashlight: Left, You: Right, Wolf: Right, Goat: Left, Cabbage: Left, Time: 3 minutes\n",
      "Flashlight: Right, You: Right, Wolf: Right, Goat: Right, Cabbage: Right, Time: 13 minutes\n"
     ]
    }
   ],
   "source": [
    "def print_solution(solution, total_time):\n",
    "    if solution:\n",
    "        print(f\"Solution found in {total_time} minutes:\")\n",
    "        for state in solution:\n",
    "            flashlight_side = 'Right' if state[0] == 1 else 'Left'\n",
    "            positions = ['Right' if x == 1 else 'Left' for x in state[1:5]]\n",
    "            print(f\"Flashlight: {flashlight_side}, You: {positions[0]}, Wolf: {positions[1]}, Goat: {positions[2]}, Cabbage: {positions[3]}, Time: {state[5]} minutes\")\n",
    "    else:\n",
    "        print(\"No solution found.\")\n",
    "\n",
    "# Run the solver\n",
    "solution, total_time = solve_bridge_crossing()\n",
    "print_solution(solution, total_time)\n"
   ]
  },
  {
   "cell_type": "code",
   "execution_count": null,
   "id": "a88bbce8",
   "metadata": {},
   "outputs": [],
   "source": []
  },
  {
   "cell_type": "code",
   "execution_count": null,
   "id": "76235401",
   "metadata": {},
   "outputs": [],
   "source": []
  }
 ],
 "metadata": {
  "kernelspec": {
   "display_name": "Python 3 (ipykernel)",
   "language": "python",
   "name": "python3"
  },
  "language_info": {
   "codemirror_mode": {
    "name": "ipython",
    "version": 3
   },
   "file_extension": ".py",
   "mimetype": "text/x-python",
   "name": "python",
   "nbconvert_exporter": "python",
   "pygments_lexer": "ipython3",
   "version": "3.11.5"
  }
 },
 "nbformat": 4,
 "nbformat_minor": 5
}
