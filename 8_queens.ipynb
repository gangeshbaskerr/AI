{
 "cells": [
  {
   "cell_type": "code",
   "execution_count": 1,
   "id": "a258c71e",
   "metadata": {},
   "outputs": [],
   "source": [
    "import random\n",
    "\n",
    "def fitness_function(chromosome):\n",
    "    \"\"\"Calculate fitness based on the number of non-attacking pairs of queens.\"\"\"\n",
    "    fitness_value = 0\n",
    "    n = len(chromosome)\n",
    "    for i in range(n):\n",
    "        for j in range(i + 1, n):\n",
    "            if chromosome[i] != chromosome[j] and abs(chromosome[j] - chromosome[i]) != j - i:\n",
    "                fitness_value += 1\n",
    "    return fitness_value\n",
    "\n",
    "def random_selection(population):\n",
    "    \"\"\"Select an individual from the population based on fitness-proportional selection.\"\"\"\n",
    "    total_fitness = sum(ind['fitness'] for ind in population)\n",
    "    return random.choices(population, weights=[ind['fitness'] / total_fitness for ind in population], k=1)[0]\n",
    "\n",
    "def reproduce(parent1, parent2):\n",
    "    \"\"\"Create two children from two parents using crossover.\"\"\"\n",
    "    crossover_point = random.randint(1, len(parent1['chromosome']) - 1)\n",
    "    child1_chromosome = parent1['chromosome'][:crossover_point] + parent2['chromosome'][crossover_point:]\n",
    "    child2_chromosome = parent2['chromosome'][:crossover_point] + parent1['chromosome'][crossover_point:]\n",
    "    return {'chromosome': child1_chromosome}, {'chromosome': child2_chromosome}"
   ]
  },
  {
   "cell_type": "code",
   "execution_count": 2,
   "id": "a21ec62e",
   "metadata": {},
   "outputs": [],
   "source": [
    "def mutate(chromosome):\n",
    "    \"\"\"Mutate a chromosome by changing one of its values.\"\"\"\n",
    "    idx = random.randint(0, len(chromosome) - 1)\n",
    "    new_value = random.randint(0, len(chromosome) - 1)\n",
    "    while new_value == chromosome[idx]:  # Ensure the new value is different\n",
    "        new_value = random.randint(0, len(chromosome) - 1)\n",
    "    chromosome[idx] = new_value\n",
    "    return chromosome"
   ]
  },
  {
   "cell_type": "code",
   "execution_count": 3,
   "id": "93a7151b",
   "metadata": {},
   "outputs": [],
   "source": [
    "def genetic_algorithm(n, population_size, max_iterations):\n",
    "    \"\"\"Main function to run the genetic algorithm for the n-queens problem.\"\"\"\n",
    "    # Initialize the population with random chromosomes\n",
    "    population = [{'chromosome': [random.randint(0, n - 1) for _ in range(n)], 'fitness': 0} for _ in range(population_size)]\n",
    "    \n",
    "    # Calculate fitness for each individual\n",
    "    for individual in population:\n",
    "        individual['fitness'] = fitness_function(individual['chromosome'])\n",
    "\n",
    "    best_individual = None\n",
    "    for iteration in range(max_iterations):\n",
    "        new_population = []\n",
    "        while len(new_population) < population_size:\n",
    "            parent1 = random_selection(population)\n",
    "            parent2 = random_selection(population)\n",
    "            child1, child2 = reproduce(parent1, parent2)\n",
    "            if random.random() < 0.1:  # Mutation chance\n",
    "                child1['chromosome'] = mutate(child1['chromosome'])\n",
    "            if random.random() < 0.1:  # Mutation chance\n",
    "                child2['chromosome'] = mutate(child2['chromosome'])\n",
    "            child1['fitness'] = fitness_function(child1['chromosome'])\n",
    "            child2['fitness'] = fitness_function(child2['chromosome'])\n",
    "            new_population.extend([child1, child2])\n",
    "        \n",
    "        # Keep only the best individuals\n",
    "        population = sorted(new_population, key=lambda x: x['fitness'], reverse=True)[:population_size]\n",
    "        best_individual = max(population, key=lambda x: x['fitness'])\n",
    "        \n",
    "        print(f\"Iteration {iteration + 1}: Best Fitness = {best_individual['fitness']}\")\n",
    "\n",
    "        # Check for optimal solution\n",
    "        if best_individual['fitness'] == (n * (n - 1)) // 2:\n",
    "            print(\"Optimal solution found!\")\n",
    "            break\n",
    "\n",
    "    return best_individual"
   ]
  },
  {
   "cell_type": "code",
   "execution_count": 4,
   "id": "3be2e4b8",
   "metadata": {},
   "outputs": [],
   "source": [
    "def print_board(chromosome):\n",
    "    \"\"\"Print the chess board with queens placed based on the chromosome.\"\"\"\n",
    "    mat = [[\".\" for _ in range(len(chromosome))] for _ in range(len(chromosome))]\n",
    "    lenn=len(chromosome)-1\n",
    "    for col in range(len(chromosome)):\n",
    "        mat[lenn-chromosome[col]][col] = \"Q\"\n",
    "    for row in mat:\n",
    "        print(\" \".join(row))"
   ]
  },
  {
   "cell_type": "code",
   "execution_count": 5,
   "id": "f230cb56",
   "metadata": {
    "scrolled": true
   },
   "outputs": [
    {
     "name": "stdout",
     "output_type": "stream",
     "text": [
      "Iteration 1: Best Fitness = 25\n",
      "Iteration 2: Best Fitness = 25\n",
      "Iteration 3: Best Fitness = 26\n",
      "Iteration 4: Best Fitness = 26\n",
      "Iteration 5: Best Fitness = 27\n",
      "Iteration 6: Best Fitness = 26\n",
      "Iteration 7: Best Fitness = 26\n",
      "Iteration 8: Best Fitness = 27\n",
      "Iteration 9: Best Fitness = 26\n",
      "Iteration 10: Best Fitness = 25\n",
      "Iteration 11: Best Fitness = 26\n",
      "Iteration 12: Best Fitness = 28\n",
      "Optimal solution found!\n",
      "Best solution found: [2, 4, 1, 7, 5, 3, 6, 0]\n",
      "Fitness Value: 28\n",
      ". . . Q . . . .\n",
      ". . . . . . Q .\n",
      ". . . . Q . . .\n",
      ". Q . . . . . .\n",
      ". . . . . Q . .\n",
      "Q . . . . . . .\n",
      ". . Q . . . . .\n",
      ". . . . . . . Q\n"
     ]
    }
   ],
   "source": [
    "# Parameters\n",
    "N, POPULATION_SIZE, MAX_ITERATIONS = 8, 300, 500\n",
    "\n",
    "# Run the genetic algorithm\n",
    "best_solution = genetic_algorithm(N, POPULATION_SIZE, MAX_ITERATIONS)\n",
    "print(\"Best solution found:\", best_solution['chromosome'])\n",
    "print(\"Fitness Value:\", best_solution['fitness'])\n",
    "print_board(best_solution['chromosome'])"
   ]
  },
  {
   "cell_type": "code",
   "execution_count": null,
   "id": "f34b3549",
   "metadata": {},
   "outputs": [],
   "source": []
  }
 ],
 "metadata": {
  "kernelspec": {
   "display_name": "Python 3 (ipykernel)",
   "language": "python",
   "name": "python3"
  },
  "language_info": {
   "codemirror_mode": {
    "name": "ipython",
    "version": 3
   },
   "file_extension": ".py",
   "mimetype": "text/x-python",
   "name": "python",
   "nbconvert_exporter": "python",
   "pygments_lexer": "ipython3",
   "version": "3.11.5"
  }
 },
 "nbformat": 4,
 "nbformat_minor": 5
}
