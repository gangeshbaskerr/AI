{
 "cells": [
  {
   "cell_type": "code",
   "execution_count": 7,
   "id": "438600de",
   "metadata": {},
   "outputs": [],
   "source": [
    "import pandas as pd\n",
    "import numpy as np\n",
    "class Constant:\n",
    "    def __init__(self, name):\n",
    "        self.name = name\n",
    "    def __repr__(self):\n",
    "        return self.name\n",
    "    \n",
    "class Variable:\n",
    "    def __init__(self, name):\n",
    "        self.name = name\n",
    "    def __repr__(self): \n",
    "        return self.name\n",
    "    \n",
    "class Predicate:\n",
    "    def __init__(self, name, *args):\n",
    "        self.name = name\n",
    "        self.args = args\n",
    "    def __repr__(self):\n",
    "        return f\"{self.name}({','.join(map(str,self.args))})\"\n",
    "    \n",
    "class Function:\n",
    "    def __init__(self, name, *args):\n",
    "        self.name = name\n",
    "        self.args = args\n",
    "    def __repr__(self):\n",
    "            return f\"{self.name}({', '.join(map(str, self.args))})\"\n",
    "\n",
    "\n",
    "class LogicalExpression:\n",
    "    def __init__(self, connective, *args):\n",
    "        self.connective = connective\n",
    "        self.args = args\n",
    "\n",
    "    def __repr__(self):\n",
    "        return f\"({f' {self.connective} '.join(map(str, self.args))})\""
   ]
  },
  {
   "cell_type": "code",
   "execution_count": 11,
   "id": "eced30e7",
   "metadata": {},
   "outputs": [
    {
     "name": "stdout",
     "output_type": "stream",
     "text": [
      "Constants:\n",
      "KingJohn Richard 2\n",
      "Variables:\n",
      "x y\n",
      "Predicates:\n",
      "Brother(KingJohn,Richard)\n",
      "GreaterThan(2,x)\n",
      "Functions:\n",
      "Sqrt(2)\n",
      "LeftLegOf(KingJohn)\n",
      "Logical Expressions:\n",
      "(Brother(KingJohn,Richard) ^ GreaterThan(2,x))\n",
      "(LeftLegOf(KingJohn) _ x)\n"
     ]
    }
   ],
   "source": [
    "if __name__ == \"__main__\":\n",
    "    king_john = Constant(\"KingJohn\")\n",
    "    richard = Constant(\"Richard\")\n",
    "    two = Constant(\"2\")\n",
    "    \n",
    "    X = Variable(\"x\")\n",
    "    Y = Variable(\"y\")\n",
    "    brother = Predicate(\"Brother\", king_john, richard)\n",
    "    greater_than = Predicate(\"GreaterThan\", two, X)\n",
    "    \n",
    "    sqrt = Function(\"Sqrt\", two)\n",
    "    left_leg_of = Function(\"LeftLegOf\", king_john)\n",
    "    expression1 = LogicalExpression(\"^\", brother, greater_than)\n",
    "    expression1 = LogicalExpression(\"^\", brother, greater_than)\n",
    "    expression2 = LogicalExpression(\"_\", left_leg_of, X)\n",
    "\n",
    "    # Print results\n",
    "    print(\"Constants:\")\n",
    "    print(king_john, richard, two)\n",
    "    \n",
    "    print(\"Variables:\")\n",
    "    print(X, Y)\n",
    "    \n",
    "    print(\"Predicates:\")\n",
    "    print(brother)\n",
    "    print(greater_than)\n",
    "    \n",
    "    print(\"Functions:\")\n",
    "    print(sqrt)\n",
    "    print(left_leg_of)\n",
    "    \n",
    "    print(\"Logical Expressions:\")\n",
    "    print(expression1)\n",
    "    print(expression2)"
   ]
  },
  {
   "cell_type": "code",
   "execution_count": null,
   "id": "35eda7bf",
   "metadata": {},
   "outputs": [],
   "source": []
  }
 ],
 "metadata": {
  "kernelspec": {
   "display_name": "Python 3 (ipykernel)",
   "language": "python",
   "name": "python3"
  },
  "language_info": {
   "codemirror_mode": {
    "name": "ipython",
    "version": 3
   },
   "file_extension": ".py",
   "mimetype": "text/x-python",
   "name": "python",
   "nbconvert_exporter": "python",
   "pygments_lexer": "ipython3",
   "version": "3.11.5"
  }
 },
 "nbformat": 4,
 "nbformat_minor": 5
}
