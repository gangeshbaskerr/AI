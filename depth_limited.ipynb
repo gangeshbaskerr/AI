{
 "cells": [
  {
   "cell_type": "code",
   "execution_count": 1,
   "id": "a1e2ca24",
   "metadata": {},
   "outputs": [],
   "source": [
    "def dls(graph, start, goal, depth, visited=None, parents=None):\n",
    "    if parents is None:\n",
    "        parents = {start: None}\n",
    "    if visited is None:\n",
    "        visited = set()\n",
    "    if depth < 0:\n",
    "        return None\n",
    "    if start == goal:\n",
    "        return construct_path(start, parents)\n",
    "    \n",
    "    visited.add(start)\n",
    "\n",
    "    for neighbor in graph[start]:\n",
    "        if neighbor not in visited:\n",
    "            parents[neighbor] = start\n",
    "            result = dls(graph, neighbor, goal, depth - 1, visited, parents)\n",
    "            if result is not None:\n",
    "                return result\n",
    "    return None"
   ]
  },
  {
   "cell_type": "code",
   "execution_count": 2,
   "id": "d8c77c0a",
   "metadata": {},
   "outputs": [],
   "source": [
    "def construct_path(goal, parents):\n",
    "    path = []\n",
    "    while goal is not None:\n",
    "        path.append(goal)\n",
    "        goal = parents[goal]\n",
    "    path.reverse()\n",
    "    return path"
   ]
  },
  {
   "cell_type": "code",
   "execution_count": 11,
   "id": "bd6a9d52",
   "metadata": {},
   "outputs": [],
   "source": [
    "graph = {\n",
    "    'A': ['B', 'C'],\n",
    "    'B': ['D', 'E'],\n",
    "    'C': ['F', 'G'],\n",
    "    'D': [],\n",
    "    'E': [],\n",
    "    'F': [],\n",
    "    'G': ['H'],\n",
    "    'H': []\n",
    "}\n",
    "\n",
    "start = 'A'\n",
    "goal = 'F'\n",
    "depth = 2"
   ]
  },
  {
   "cell_type": "code",
   "execution_count": 12,
   "id": "4529bdeb",
   "metadata": {},
   "outputs": [
    {
     "name": "stdout",
     "output_type": "stream",
     "text": [
      "Path found: ['A', 'C', 'F']\n"
     ]
    }
   ],
   "source": [
    "path = dls(graph, start, goal, depth)\n",
    "if path:\n",
    "    print(\"Path found:\", path)\n",
    "else:\n",
    "    print(\"Not Found\")"
   ]
  }
 ],
 "metadata": {
  "kernelspec": {
   "display_name": "Python 3 (ipykernel)",
   "language": "python",
   "name": "python3"
  },
  "language_info": {
   "codemirror_mode": {
    "name": "ipython",
    "version": 3
   },
   "file_extension": ".py",
   "mimetype": "text/x-python",
   "name": "python",
   "nbconvert_exporter": "python",
   "pygments_lexer": "ipython3",
   "version": "3.11.5"
  }
 },
 "nbformat": 4,
 "nbformat_minor": 5
}
