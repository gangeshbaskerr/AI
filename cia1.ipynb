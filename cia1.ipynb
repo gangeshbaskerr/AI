{
 "cells": [
  {
   "cell_type": "markdown",
   "metadata": {},
   "source": [
    "# BFS Search"
   ]
  },
  {
   "cell_type": "code",
   "execution_count": 9,
   "metadata": {},
   "outputs": [
    {
     "name": "stdout",
     "output_type": "stream",
     "text": [
      "1 2 7 8 3 6 "
     ]
    }
   ],
   "source": [
    "graph={\n",
    "       '1':['2','7','8'],\n",
    "       '2':['3','6'],\n",
    "       '3':['4','5'],\n",
    "       '4':[],\n",
    "       '5':[],\n",
    "       '6':[],\n",
    "       '7':[],\n",
    "       '8':['9','12'],\n",
    "       '9':['10','11'],\n",
    "       '10':[],\n",
    "       '11':[],\n",
    "       '12':[]\n",
    "       }\n",
    "\n",
    "visited=[]\n",
    "queue=[]\n",
    "\n",
    "def bfs(graph,visited,n,end_node):\n",
    "    visited.append(n)\n",
    "    queue.append(n)\n",
    "   \n",
    "    while queue:\n",
    "        x=queue.pop(0)\n",
    "        if end_node in queue:\n",
    "            for i in visited:\n",
    "                print(i,end=\" \")\n",
    "            break\n",
    "        for next_node in graph[x]:\n",
    "            if next_node not in visited:\n",
    "                visited.append(next_node)\n",
    "                queue.append(next_node)\n",
    "bfs(graph,visited,'1','6')"
   ]
  },
  {
   "cell_type": "markdown",
   "metadata": {},
   "source": [
    "# DFS"
   ]
  },
  {
   "cell_type": "code",
   "execution_count": 1,
   "metadata": {},
   "outputs": [
    {
     "name": "stdout",
     "output_type": "stream",
     "text": [
      "Following is the Depth-First Search\n",
      "5\n",
      "3\n",
      "2\n",
      "4\n",
      "8\n",
      "7\n"
     ]
    }
   ],
   "source": [
    "graph = {\n",
    "    '5': ['3', '7'],\n",
    "    '3': ['2', '4'],\n",
    "    '7': ['8'],\n",
    "    '2': [],\n",
    "    '4': ['8'],\n",
    "    '8': []\n",
    "}\n",
    "\n",
    "visited = set()  # Set to keep track of visited nodes of graph.\n",
    "\n",
    "def dfs(visited, graph, node):\n",
    "    if node not in visited:\n",
    "        print(node)\n",
    "        visited.add(node)\n",
    "        for neighbour in graph[node]:\n",
    "            dfs(visited, graph, neighbour)\n",
    "\n",
    "# Driver Code\n",
    "print(\"Following is the Depth-First Search\")\n",
    "dfs(visited, graph, '5')\n"
   ]
  },
  {
   "cell_type": "markdown",
   "metadata": {},
   "source": [
    "# IDDFS Search: Normal"
   ]
  },
  {
   "cell_type": "code",
   "execution_count": 2,
   "metadata": {},
   "outputs": [
    {
     "name": "stdout",
     "output_type": "stream",
     "text": [
      "Target is reachable from source within max depth\n"
     ]
    }
   ],
   "source": [
    "# Python program to print DFS traversal from a given\n",
    "# given graph\n",
    "from collections import defaultdict\n",
    "\n",
    "# This class represents a directed graph using adjacency\n",
    "# list representation\n",
    "class Graph:\n",
    "\n",
    "    def __init__(self,vertices):\n",
    "\n",
    "        # No. of vertices\n",
    "        self.V = vertices\n",
    "\n",
    "        # default dictionary to store graph\n",
    "        self.graph = defaultdict(list)\n",
    "\n",
    "    # function to add an edge to graph\n",
    "    def addEdge(self,u,v):\n",
    "        self.graph[u].append(v)\n",
    "\n",
    "    # A function to perform a Depth-Limited search\n",
    "    # from given source 'src'\n",
    "    def DLS(self,src,target,maxDepth):\n",
    "\n",
    "        if src == target : return True\n",
    "\n",
    "        # If reached the maximum depth, stop recursing.\n",
    "        if maxDepth <= 0 : return False\n",
    "\n",
    "        # Recur for all the vertices adjacent to this vertex\n",
    "        for i in self.graph[src]:\n",
    "                if(self.DLS(i,target,maxDepth-1)):\n",
    "                    return True\n",
    "        return False\n",
    "\n",
    "    # IDDFS to search if target is reachable from v.\n",
    "    # It uses recursive DLS()\n",
    "    def IDDFS(self,src, target, maxDepth):\n",
    "\n",
    "        # Repeatedly depth-limit search till the\n",
    "        # maximum depth\n",
    "        for i in range(maxDepth):\n",
    "            if (self.DLS(src, target, i)):\n",
    "                return True\n",
    "        return False\n",
    "\n",
    "# Create a graph given in the above diagram\n",
    "g = Graph (7);\n",
    "g.addEdge(0, 1)\n",
    "g.addEdge(0, 2)\n",
    "g.addEdge(1, 3)\n",
    "g.addEdge(1, 4)\n",
    "g.addEdge(2, 5)\n",
    "g.addEdge(2, 6)\n",
    "\n",
    "target = 6; maxDepth = 3; src = 0\n",
    "\n",
    "if g.IDDFS(src, target, maxDepth) == True:\n",
    "    print (\"Target is reachable from source \" +\n",
    "        \"within max depth\")\n",
    "else :\n",
    "    print (\"Target is NOT reachable from source \" +\n",
    "        \"within max depth\")\n",
    "\n",
    "# This code is contributed by Neelam Pandey\n"
   ]
  },
  {
   "cell_type": "markdown",
   "metadata": {},
   "source": [
    "# IDDFS: 8 Queen's Problem"
   ]
  },
  {
   "cell_type": "code",
   "execution_count": 3,
   "metadata": {},
   "outputs": [
    {
     "name": "stdout",
     "output_type": "stream",
     "text": [
      "1 0 0 0 0 0 0 0\n",
      "0 0 0 0 0 0 1 0\n",
      "0 0 0 0 1 0 0 0\n",
      "0 0 0 0 0 0 0 1\n",
      "0 1 0 0 0 0 0 0\n",
      "0 0 0 1 0 0 0 0\n",
      "0 0 0 0 0 1 0 0\n",
      "0 0 1 0 0 0 0 0\n"
     ]
    }
   ],
   "source": [
    "def is_safe(board, row, col):\n",
    "    # Check this row on the left side\n",
    "    for i in range(col):\n",
    "        if board[row][i] == 1:\n",
    "            return False\n",
    "\n",
    "    # Check upper diagonal on the left side\n",
    "    for i, j in zip(range(row, -1, -1), range(col, -1, -1)):\n",
    "        if board[i][j] == 1:\n",
    "            return False\n",
    "\n",
    "    # Check lower diagonal on the left side\n",
    "    for i, j in zip(range(row, len(board), 1), range(col, -1, -1)):\n",
    "        if board[i][j] == 1:\n",
    "            return False\n",
    "\n",
    "    return True\n",
    "\n",
    "def solve_n_queens(board, col):\n",
    "    if col >= len(board):\n",
    "        return True\n",
    "\n",
    "    for i in range(len(board)):\n",
    "        if is_safe(board, i, col):\n",
    "            board[i][col] = 1\n",
    "            if solve_n_queens(board, col + 1):\n",
    "                return True\n",
    "            board[i][col] = 0\n",
    "\n",
    "    return False\n",
    "\n",
    "def print_board(board):\n",
    "    for row in board:\n",
    "        print(\" \".join(str(x) for x in row))\n",
    "\n",
    "def main():\n",
    "    N = 8\n",
    "    board = [[0] * N for _ in range(N)]\n",
    "    if solve_n_queens(board, 0):\n",
    "        print_board(board)\n",
    "    else:\n",
    "        print(\"No solution found\")\n",
    "\n",
    "if __name__ == \"__main__\":\n",
    "    main()\n"
   ]
  },
  {
   "cell_type": "markdown",
   "metadata": {},
   "source": [
    "# IDDFS: 8 Puzzle Problem"
   ]
  },
  {
   "cell_type": "code",
   "execution_count": 4,
   "metadata": {},
   "outputs": [
    {
     "name": "stdout",
     "output_type": "stream",
     "text": [
      "1 2 3\n",
      "4 0 5\n",
      "7 8 6\n",
      "\n",
      "1 2 3\n",
      "4 5 0\n",
      "7 8 6\n",
      "\n",
      "1 2 3\n",
      "4 5 6\n",
      "7 8 0\n",
      "\n"
     ]
    }
   ],
   "source": [
    "class Puzzle:\n",
    "    def __init__(self, board, empty_tile_pos):\n",
    "        self.board = board\n",
    "        self.empty_tile_pos = empty_tile_pos\n",
    "\n",
    "    def get_possible_moves(self):\n",
    "        moves = []\n",
    "        x, y = self.empty_tile_pos\n",
    "        if x > 0: moves.append((x - 1, y))  # Move up\n",
    "        if x < 2: moves.append((x + 1, y))  # Move down\n",
    "        if y > 0: moves.append((x, y - 1))  # Move left\n",
    "        if y < 2: moves.append((x, y + 1))  # Move right\n",
    "        return moves\n",
    "\n",
    "    def move(self, new_empty_tile_pos):\n",
    "        x, y = self.empty_tile_pos\n",
    "        new_x, new_y = new_empty_tile_pos\n",
    "        new_board = [row[:] for row in self.board]\n",
    "        new_board[x][y], new_board[new_x][new_y] = new_board[new_x][new_y], new_board[x][y]\n",
    "        return Puzzle(new_board, new_empty_tile_pos)\n",
    "\n",
    "    def is_goal(self):\n",
    "        goal = [[1, 2, 3], [4, 5, 6], [7, 8, 0]]\n",
    "        return self.board == goal\n",
    "\n",
    "    def __str__(self):\n",
    "        return '\\n'.join([' '.join(map(str, row)) for row in self.board])\n",
    "\n",
    "def iddfs(puzzle, max_depth):\n",
    "    def dls(puzzle, depth):\n",
    "        if puzzle.is_goal():\n",
    "            return [puzzle]\n",
    "        if depth == 0:\n",
    "            return None\n",
    "        for move in puzzle.get_possible_moves():\n",
    "            new_puzzle = puzzle.move(move)\n",
    "            result = dls(new_puzzle, depth - 1)\n",
    "            if result:\n",
    "                return [puzzle] + result\n",
    "        return None\n",
    "\n",
    "    for depth in range(max_depth):\n",
    "        result = dls(puzzle, depth)\n",
    "        if result:\n",
    "            return result\n",
    "    return None\n",
    "\n",
    "# Example usage\n",
    "initial_board = [[1, 2, 3], [4, 0, 5], [7, 8, 6]]\n",
    "initial_empty_tile_pos = (1, 1)\n",
    "puzzle = Puzzle(initial_board, initial_empty_tile_pos)\n",
    "solution = iddfs(puzzle, 20)\n",
    "\n",
    "if solution:\n",
    "    for step in solution:\n",
    "        print(step)\n",
    "        print()\n",
    "else:\n",
    "    print(\"No solution found within the given depth limit.\")\n"
   ]
  },
  {
   "cell_type": "markdown",
   "metadata": {},
   "source": [
    "# Greedy & A* Search"
   ]
  },
  {
   "cell_type": "code",
   "execution_count": 12,
   "metadata": {},
   "outputs": [],
   "source": [
    "class Node:\n",
    "    def __init__(self, name, heuristic):\n",
    "        self.name = name\n",
    "        self.heuristic = heuristic\n",
    "        self.children = []\n",
    "        self.parent=None\n",
    "\n",
    "    def add_child(self, child, cost):\n",
    "        self.children.append((child, cost))"
   ]
  },
  {
   "cell_type": "code",
   "execution_count": 3,
   "metadata": {},
   "outputs": [],
   "source": [
    "def greedy_best_first_search(start_node, goal_node):\n",
    "    open_list = [(start_node, 0)]\n",
    "    closed_list = []\n",
    "\n",
    "    while open_list:\n",
    "        current_node, current_cost = open_list.pop(0)\n",
    "        closed_list.append(current_node)\n",
    "\n",
    "        if current_node.name == goal_node.name:\n",
    "            path = []\n",
    "            total_cost =current_cost\n",
    "            while current_node:\n",
    "                path.append(current_node.name)\n",
    "                current_node = current_node.parent if hasattr(current_node, 'parent') else None\n",
    "            return path[::-1], total_cost\n",
    "\n",
    "        for child, cost in current_node.children:\n",
    "            if child not in open_list and child not in closed_list:\n",
    "                child.parent = current_node\n",
    "                open_list.append((child, current_cost + cost))\n",
    "\n",
    "        open_list.sort(key=lambda node: node[0].heuristic)\n",
    "\n",
    "    return None, float('inf')"
   ]
  },
  {
   "cell_type": "code",
   "execution_count": 39,
   "metadata": {},
   "outputs": [],
   "source": [
    "def a_star_search(start_node, goal_node):\n",
    "    open_list = [(start_node, 0)]\n",
    "    closed_list = []\n",
    "\n",
    "    while open_list:\n",
    "        # Sort open list by f(n) = g(n) + h(n)\n",
    "        open_list.sort(key=lambda node: node[1] + node[0].heuristic)\n",
    "        current_node, current_cost = open_list.pop(0)\n",
    "        closed_list.append(current_node)\n",
    "\n",
    "        if current_node.name == goal_node.name:\n",
    "            path = []\n",
    "            total_cost = current_cost\n",
    "            while current_node:\n",
    "                path.append(current_node.name)\n",
    "                current_node = current_node.parent if hasattr(current_node, 'parent') else None\n",
    "            return path[::-1], total_cost\n",
    "\n",
    "        for child, cost in current_node.children:\n",
    "            if child not in open_list and child not in closed_list:\n",
    "                child.parent = current_node\n",
    "                open_list.append((child, current_cost + cost))\n",
    "\n",
    "    return None, float('inf')\n"
   ]
  },
  {
   "cell_type": "code",
   "execution_count": 34,
   "metadata": {},
   "outputs": [],
   "source": [
    "A = Node('A', 1)\n",
    "B = Node('B', 1)\n",
    "C = Node('C', 1)\n",
    "D = Node('D', 1)\n",
    "\n",
    "A.add_child(B, 1)\n",
    "A.add_child(C, 3)\n",
    "A.add_child(D, 7)\n",
    "B.add_child(D, 5)\n",
    "C.add_child(D,12)"
   ]
  },
  {
   "cell_type": "code",
   "execution_count": 40,
   "metadata": {},
   "outputs": [
    {
     "name": "stdout",
     "output_type": "stream",
     "text": [
      "Path found: ['A', 'C', 'D']\n",
      "Path cost: 6\n"
     ]
    }
   ],
   "source": [
    "path, path_cost = a_star_search(A,D)\n",
    "print(\"Path found:\", path)\n",
    "print(\"Path cost:\", path_cost)"
   ]
  },
  {
   "cell_type": "code",
   "execution_count": 41,
   "metadata": {},
   "outputs": [
    {
     "name": "stdout",
     "output_type": "stream",
     "text": [
      "Path found: ['A', 'C', 'D']\n",
      "Path cost: 7\n"
     ]
    }
   ],
   "source": [
    "path, path_cost =  greedy_best_first_search(A,D)\n",
    "print(\"Path found:\", path)\n",
    "print(\"Path cost:\", path_cost)"
   ]
  },
  {
   "cell_type": "markdown",
   "metadata": {},
   "source": [
    "# A* Search"
   ]
  },
  {
   "cell_type": "code",
   "execution_count": 37,
   "metadata": {},
   "outputs": [],
   "source": [
    "from collections import deque\n",
    "\n",
    "class Graph:\n",
    "    def __init__(self, adjacency_list):\n",
    "        self.adjacency_list = adjacency_list\n",
    "\n",
    "    def get_neighbors(self, v):\n",
    "        return self.adjacency_list[v]\n",
    "\n",
    "    def h(self, n):\n",
    "        H = {\n",
    "            'A': 1,\n",
    "            'B': 1,\n",
    "            'C': 1,\n",
    "            'D': 1\n",
    "        }\n",
    "\n",
    "        return H[n]\n",
    "\n",
    "    def a_star_algorithm(self, start_node, stop_node):\n",
    "\n",
    "        open_list = set([start_node])\n",
    "        closed_list = set([])\n",
    "        g = {}\n",
    "        g[start_node] = 0\n",
    "        parents = {}\n",
    "        parents[start_node] = start_node\n",
    "\n",
    "        while len(open_list) > 0:\n",
    "            n = None\n",
    "            for v in open_list:\n",
    "                if n == None or g[v] + self.h(v) < g[n] + self.h(n):\n",
    "                    n = v;\n",
    "\n",
    "            if n == None:\n",
    "                print('Path does not exist!')\n",
    "                return None\n",
    "            \n",
    "            if n == stop_node:\n",
    "                reconst_path = []\n",
    "\n",
    "                while parents[n] != n:\n",
    "                    reconst_path.append(n)\n",
    "                    n = parents[n]\n",
    "\n",
    "                reconst_path.append(start_node)\n",
    "\n",
    "                reconst_path.reverse()\n",
    "\n",
    "                print('Path found: {}'.format(reconst_path))\n",
    "                return reconst_path\n",
    "\n",
    "\n",
    "            for (m, weight) in self.get_neighbors(n):\n",
    "\n",
    "                if m not in open_list and m not in closed_list:\n",
    "                    open_list.add(m)\n",
    "                    parents[m] = n\n",
    "                    g[m] = g[n] + weight\n",
    "\n",
    "                else:\n",
    "                    if g[m] > g[n] + weight:\n",
    "                        g[m] = g[n] + weight\n",
    "                        parents[m] = n\n",
    "\n",
    "                        if m in closed_list:\n",
    "                            closed_list.remove(m)\n",
    "                            open_list.add(m)\n",
    "\n",
    "            open_list.remove(n)\n",
    "            closed_list.add(n)\n",
    "\n",
    "        print('Path does not exist!')\n",
    "        return None"
   ]
  },
  {
   "cell_type": "code",
   "execution_count": 38,
   "metadata": {},
   "outputs": [
    {
     "name": "stdout",
     "output_type": "stream",
     "text": [
      "Path found: ['A', 'B', 'D']\n"
     ]
    },
    {
     "data": {
      "text/plain": [
       "['A', 'B', 'D']"
      ]
     },
     "execution_count": 38,
     "metadata": {},
     "output_type": "execute_result"
    }
   ],
   "source": [
    "adjacency_list = {\n",
    "    'A': [('B', 1), ('C', 3), ('D', 7)],\n",
    "    'B': [('D', 5)],\n",
    "    'C': [('D', 12)]\n",
    "}\n",
    "graph1 = Graph(adjacency_list)\n",
    "graph1.a_star_algorithm('A', 'D')"
   ]
  },
  {
   "cell_type": "code",
   "execution_count": null,
   "metadata": {},
   "outputs": [],
   "source": []
  }
 ],
 "metadata": {
  "kernelspec": {
   "display_name": "Python 3 (ipykernel)",
   "language": "python",
   "name": "python3"
  },
  "language_info": {
   "codemirror_mode": {
    "name": "ipython",
    "version": 3
   },
   "file_extension": ".py",
   "mimetype": "text/x-python",
   "name": "python",
   "nbconvert_exporter": "python",
   "pygments_lexer": "ipython3",
   "version": "3.12.4"
  }
 },
 "nbformat": 4,
 "nbformat_minor": 4
}
