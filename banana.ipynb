{
 "cells": [
  {
   "cell_type": "code",
   "execution_count": 2,
   "id": "19ce8692",
   "metadata": {},
   "outputs": [],
   "source": [
    "from collections import deque\n",
    "\n",
    "def solve_monkey_and_banana():\n",
    "    # Initial state: (monkey_position, box_position, monkey_on_box, monkey_has_banana)\n",
    "    start_state = ('door', 'window', 'no', 'no')\n",
    "    \n",
    "    # Goal condition: (any, any, any, 'yes')\n",
    "    goal_condition = lambda state: state[3] == 'yes'\n",
    "    \n",
    "    # BFS queue: stores (current state, path taken)\n",
    "    queue = deque([(start_state, [start_state])])\n",
    "    \n",
    "    # Set to store visited states\n",
    "    visited = set([start_state])\n",
    "    \n",
    "    # BFS loop\n",
    "    while queue:\n",
    "        current_state, path = queue.popleft()\n",
    "        \n",
    "        # Check if we have reached the goal\n",
    "        if goal_condition(current_state):\n",
    "            return path\n",
    "        \n",
    "        # Generate next possible states\n",
    "        next_states = generate_next_states(current_state)\n",
    "        \n",
    "        for next_state in next_states:\n",
    "            if next_state not in visited:\n",
    "                visited.add(next_state)\n",
    "                queue.append((next_state, path + [next_state]))\n",
    "\n",
    "    # No solution found\n",
    "    return None\n",
    "\n",
    "def generate_next_states(state):\n",
    "    monkey_position, box_position, monkey_on_box, monkey_has_banana = state\n",
    "    next_states = []\n",
    "    \n",
    "    # Action: Walk (P)\n",
    "    if monkey_on_box == 'no':  # Monkey can only walk if it's not on the box\n",
    "        possible_positions = ['door', 'window', 'middle']\n",
    "        for pos in possible_positions:\n",
    "            if pos != monkey_position:\n",
    "                next_states.append((pos, box_position, 'no', monkey_has_banana))\n",
    "    \n",
    "    # Action: Push (P)\n",
    "    if monkey_on_box == 'no' and monkey_position == box_position:\n",
    "        possible_positions = ['door', 'window', 'middle']\n",
    "        for pos in possible_positions:\n",
    "            if pos != monkey_position:\n",
    "                next_states.append((pos, pos, 'no', monkey_has_banana))\n",
    "    \n",
    "    # Action: Climb\n",
    "    if monkey_position == box_position and monkey_on_box == 'no':\n",
    "        next_states.append((monkey_position, box_position, 'yes', monkey_has_banana))\n",
    "    \n",
    "    # Action: Grasp\n",
    "    if monkey_position == 'middle' and box_position == 'middle' and monkey_on_box == 'yes' and monkey_has_banana == 'no':\n",
    "        next_states.append(('middle', 'middle', 'yes', 'yes'))\n",
    "    \n",
    "    return next_states"
   ]
  },
  {
   "cell_type": "code",
   "execution_count": 3,
   "id": "1e2beb3b",
   "metadata": {},
   "outputs": [
    {
     "name": "stdout",
     "output_type": "stream",
     "text": [
      "Solution found:\n",
      "Monkey: door, Box: window, On Box: no, Has Banana: no\n",
      "Monkey: window, Box: window, On Box: no, Has Banana: no\n",
      "Monkey: middle, Box: middle, On Box: no, Has Banana: no\n",
      "Monkey: middle, Box: middle, On Box: yes, Has Banana: no\n",
      "Monkey: middle, Box: middle, On Box: yes, Has Banana: yes\n"
     ]
    }
   ],
   "source": [
    "def print_solution(solution):\n",
    "    if solution:\n",
    "        print(\"Solution found:\")\n",
    "        for state in solution:\n",
    "            print(f\"Monkey: {state[0]}, Box: {state[1]}, On Box: {state[2]}, Has Banana: {state[3]}\")\n",
    "    else:\n",
    "        print(\"No solution found.\")\n",
    "\n",
    "# Run the solver\n",
    "solution = solve_monkey_and_banana()\n",
    "print_solution(solution)"
   ]
  }
 ],
 "metadata": {
  "kernelspec": {
   "display_name": "Python 3 (ipykernel)",
   "language": "python",
   "name": "python3"
  },
  "language_info": {
   "codemirror_mode": {
    "name": "ipython",
    "version": 3
   },
   "file_extension": ".py",
   "mimetype": "text/x-python",
   "name": "python",
   "nbconvert_exporter": "python",
   "pygments_lexer": "ipython3",
   "version": "3.11.5"
  }
 },
 "nbformat": 4,
 "nbformat_minor": 5
}
