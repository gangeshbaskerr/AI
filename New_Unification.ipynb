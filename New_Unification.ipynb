{
 "cells": [
  {
   "cell_type": "code",
   "execution_count": 6,
   "id": "79591e4e",
   "metadata": {},
   "outputs": [
    {
     "name": "stdout",
     "output_type": "stream",
     "text": [
      "Unifying Prime(13) and Prime(y): {'y': '13'}\n",
      "Unifying Knows(John, x) and Knows(y, Mother(y)): {'x': 'Mother(y)', 'y': 'John'}\n",
      "Unifying pro(b, X, f(g(Z))) and pro(Z, f(Y), f(Y)): {'X': 'f(Y)', 'Y': 'g(Z)', 'b': 'Z'}\n",
      "Unifying Quick(a, g(x, a), f(y)) and Quick(a, g(f(b), a), x): {'g(x': 'g(f(b)', 'x': 'f(y)'}\n"
     ]
    }
   ],
   "source": [
    "import re\n",
    "\n",
    "def parse_function(term):\n",
    "    match = re.match(r'(\\w+)\\((.*)\\)', term)\n",
    "    if match:\n",
    "        name, params = match.group(1), match.group(2).split(',')\n",
    "        return name, [p.strip() for p in params]\n",
    "    return None\n",
    "\n",
    "def unify_var(var, value, theta):\n",
    "    if var in theta:\n",
    "        return unify(theta[var], value, theta)\n",
    "    elif value in theta:\n",
    "        return unify(var, theta[value], theta)\n",
    "    else:\n",
    "        theta[var] = value\n",
    "    return theta\n",
    "\n",
    "def is_variable(term):\n",
    "    return isinstance(term, str) and len(term) == 1 and term.isalpha()\n",
    "\n",
    "def unify(term1, term2, theta={}):\n",
    "    term1, term2 = theta.get(term1, term1), theta.get(term2, term2)\n",
    "    \n",
    "    if term1 == term2:\n",
    "        return theta\n",
    "    elif is_variable(term1):\n",
    "        return unify_var(term1, term2, theta)\n",
    "    elif is_variable(term2):\n",
    "        return unify_var(term2, term1, theta)\n",
    "    elif (func1 := parse_function(term1)) and (func2 := parse_function(term2)):\n",
    "        if func1[0] == func2[0] and len(func1[1]) == len(func2[1]):\n",
    "            for p1, p2 in zip(func1[1], func2[1]):\n",
    "                theta = unify(p1, p2, theta)\n",
    "            return theta\n",
    "    else:\n",
    "        theta[term1] = term2\n",
    "    return theta\n",
    "\n",
    "def unify_sentences(sentence1, sentence2):\n",
    "    func1, func2 = parse_function(sentence1), parse_function(sentence2)\n",
    "    if func1 and func2 and func1[0] == func2[0] and len(func1[1]) == len(func2[1]):\n",
    "        theta = {}\n",
    "        for p1, p2 in zip(func1[1], func2[1]):\n",
    "            theta = unify(p1, p2, theta)\n",
    "        return {k: theta[k] for k in sorted(theta)}  # Sort for consistent output\n",
    "    return {}\n",
    "\n",
    "# Testing the implementation with the required examples\n",
    "print(\"Unifying Prime(13) and Prime(y):\", unify_sentences(\"Prime(13)\", \"Prime(y)\"))  # Θ = {y/13}\n",
    "print(\"Unifying Knows(John, x) and Knows(y, Mother(y)):\", unify_sentences(\"Knows(John, x)\", \"Knows(y, Mother(y))\"))  # Θ = {y/John, x/Mother(John)}\n",
    "print(\"Unifying pro(b, X, f(g(Z))) and pro(Z, f(Y), f(Y)):\", unify_sentences(\"pro(b, X, f(g(Z)))\", \"pro(Z, f(Y), f(Y))\"))  # Θ = {Z/b, X/f(Y), Y/g(b)}\n",
    "print(\"Unifying Quick(a, g(x, a), f(y)) and Quick(a, g(f(b), a), x):\", unify_sentences(\"Quick(a, g(x, a), f(y))\", \"Quick(a, g(f(b), a), x)\"))  # Θ = {a/a, x/f(b), y/b}\n"
   ]
  }
 ],
 "metadata": {
  "kernelspec": {
   "display_name": "Python 3 (ipykernel)",
   "language": "python",
   "name": "python3"
  },
  "language_info": {
   "codemirror_mode": {
    "name": "ipython",
    "version": 3
   },
   "file_extension": ".py",
   "mimetype": "text/x-python",
   "name": "python",
   "nbconvert_exporter": "python",
   "pygments_lexer": "ipython3",
   "version": "3.11.5"
  }
 },
 "nbformat": 4,
 "nbformat_minor": 5
}
