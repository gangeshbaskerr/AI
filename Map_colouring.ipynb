{
 "cells": [
  {
   "cell_type": "code",
   "execution_count": 3,
   "id": "6520da5d",
   "metadata": {},
   "outputs": [
    {
     "name": "stdout",
     "output_type": "stream",
     "text": [
      "Solutions: {'wa': 'Green', 'nt': 'Red', 'q': 'Green', 'nsw': 'Red', 'v': 'Green', 'sa': 'Blue', 't': 'Green'}\n"
     ]
    }
   ],
   "source": [
    "from collections import deque\n",
    "\n",
    "def solve_map_coloring(graph, colors):\n",
    "    def backtrack(assignment):\n",
    "        if len(assignment) == len(graph):\n",
    "            return assignment\n",
    "        var = min((v for v in graph if v not in assignment), key=lambda v: len(domains[v]))\n",
    "        for value in domains[var]:\n",
    "            if all(assignment.get(nei) != value for nei in graph[var]):\n",
    "                assignment[var] = value\n",
    "                if backtrack(assignment):\n",
    "                    return assignment\n",
    "                del assignment[var]\n",
    "        return None\n",
    "\n",
    "    domains = {node: set(colors) for node in graph}\n",
    "    return backtrack({}) or \"No solution exists for the given map.\"\n",
    "\n",
    "if __name__ == \"__main__\":\n",
    "    graph = {\n",
    "        'wa': {'nt', 'sa'}, 'nt': {'wa', 'sa', 'q'}, 'q': {'nt', 'sa', 'nsw'},\n",
    "        'nsw': {'q', 'sa', 'v'}, 'v': {'sa', 'nsw'}, 'sa': {'wa', 'nt', 'q', 'nsw', 'v'}, 't': set()\n",
    "    }\n",
    "    colors = {'Red', 'Green', 'Blue'}\n",
    "    print(\"Solutions:\", solve_map_coloring(graph, colors))\n"
   ]
  },
  {
   "cell_type": "code",
   "execution_count": null,
   "id": "23a8d653",
   "metadata": {},
   "outputs": [],
   "source": []
  }
 ],
 "metadata": {
  "kernelspec": {
   "display_name": "Python 3 (ipykernel)",
   "language": "python",
   "name": "python3"
  },
  "language_info": {
   "codemirror_mode": {
    "name": "ipython",
    "version": 3
   },
   "file_extension": ".py",
   "mimetype": "text/x-python",
   "name": "python",
   "nbconvert_exporter": "python",
   "pygments_lexer": "ipython3",
   "version": "3.11.5"
  }
 },
 "nbformat": 4,
 "nbformat_minor": 5
}
