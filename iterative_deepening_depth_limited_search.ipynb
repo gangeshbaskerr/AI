{
 "cells": [
  {
   "cell_type": "code",
   "execution_count": 1,
   "id": "61665317",
   "metadata": {
    "id": "61665317"
   },
   "outputs": [],
   "source": [
    "from collections import deque\n",
    "MOVES = {\n",
    "    'UP': -3, 'DOWN': 3, 'LEFT': -1, 'RIGHT': 1\n",
    "}\n",
    "\n",
    "def index_to_pos(index):\n",
    "    return (index // 3, index % 3)"
   ]
  },
  {
   "cell_type": "code",
   "execution_count": 2,
   "id": "96ac7c2e",
   "metadata": {
    "id": "96ac7c2e"
   },
   "outputs": [],
   "source": [
    "def dls(state, goal, depth, visited=None, parents=None):\n",
    "    if parents is None:\n",
    "        parents = {state: None}\n",
    "    if visited is None:\n",
    "        visited = set()\n",
    "    if depth < 0:\n",
    "        return None\n",
    "    if state == goal:\n",
    "        return construct_path(goal, parents)\n",
    "\n",
    "    visited.add(state)\n",
    "\n",
    "    for neighbor in get_neighbors(state):\n",
    "        if neighbor not in visited:\n",
    "            parents[neighbor] = state\n",
    "            result = dls(neighbor, goal, depth - 1, visited, parents)\n",
    "            if result is not None:\n",
    "                return result\n",
    "\n",
    "    return None"
   ]
  },
  {
   "cell_type": "code",
   "execution_count": 3,
   "id": "afb4b95a",
   "metadata": {
    "id": "afb4b95a"
   },
   "outputs": [],
   "source": [
    "def get_neighbors(state):\n",
    "    neighbors = []\n",
    "    zero_pos = state.index(0)\n",
    "    zero_row, zero_col = index_to_pos(zero_pos)\n",
    "\n",
    "    for move, offset in MOVES.items():\n",
    "        new_pos = zero_pos + offset\n",
    "\n",
    "        if move == 'UP' and zero_row == 0 or \\\n",
    "           move == 'DOWN' and zero_row == 2 or \\\n",
    "           move == 'LEFT' and zero_col == 0 or \\\n",
    "           move == 'RIGHT' and zero_col == 2:\n",
    "            continue\n",
    "\n",
    "        if 0 <= new_pos < 9 and (move == 'LEFT' and zero_pos % 3 > 0 or \\\n",
    "                                 move == 'RIGHT' and zero_pos % 3 < 2 or \\\n",
    "                                 move in {'UP', 'DOWN'}):\n",
    "            new_state = list(state)\n",
    "            new_state[zero_pos], new_state[new_pos] = new_state[new_pos], new_state[zero_pos]\n",
    "            neighbors.append(tuple(new_state))\n",
    "\n",
    "    return neighbors"
   ]
  },
  {
   "cell_type": "code",
   "execution_count": 4,
   "id": "1d03f2d3",
   "metadata": {
    "id": "1d03f2d3"
   },
   "outputs": [],
   "source": [
    "def construct_path(goal, parents):\n",
    "    path = []\n",
    "    state = goal\n",
    "    while state is not None:\n",
    "        path.append(state)\n",
    "        state = parents[state]\n",
    "    path.reverse()\n",
    "    return path"
   ]
  },
  {
   "cell_type": "code",
   "execution_count": 5,
   "id": "804ed711",
   "metadata": {
    "id": "804ed711"
   },
   "outputs": [],
   "source": [
    "def iddfs(start, goal, max_depth=20):\n",
    "    for depth in range(max_depth + 1):\n",
    "        visited = set()\n",
    "        parents = {start: None}\n",
    "        result = dls(start, goal, depth, visited, parents)\n",
    "        if result is not None:\n",
    "            return result\n",
    "    return None"
   ]
  },
  {
   "cell_type": "code",
   "execution_count": 6,
   "id": "10db70c0",
   "metadata": {
    "id": "10db70c0",
    "outputId": "02150a6d-5ea3-47e4-9ea6-9e9f517e754e"
   },
   "outputs": [
    {
     "name": "stdout",
     "output_type": "stream",
     "text": [
      "Solution found!\n",
      "(1, 2, 3, 4, 5, 6, 7, 8, 0)\n",
      "(1, 2, 3, 4, 5, 0, 7, 8, 6)\n",
      "(1, 2, 0, 4, 5, 3, 7, 8, 6)\n",
      "(1, 0, 2, 4, 5, 3, 7, 8, 6)\n",
      "(1, 5, 2, 4, 0, 3, 7, 8, 6)\n",
      "(1, 5, 2, 0, 4, 3, 7, 8, 6)\n",
      "(1, 5, 2, 7, 4, 3, 0, 8, 6)\n",
      "(1, 5, 2, 7, 4, 3, 8, 0, 6)\n",
      "(1, 5, 2, 7, 0, 3, 8, 4, 6)\n",
      "(1, 0, 2, 7, 5, 3, 8, 4, 6)\n",
      "(1, 2, 0, 7, 5, 3, 8, 4, 6)\n",
      "(1, 2, 3, 7, 5, 0, 8, 4, 6)\n",
      "(1, 2, 3, 7, 5, 6, 8, 4, 0)\n",
      "(1, 2, 3, 7, 5, 6, 8, 0, 4)\n",
      "(1, 2, 3, 7, 5, 6, 0, 8, 4)\n",
      "(1, 2, 3, 0, 5, 6, 7, 8, 4)\n"
     ]
    }
   ],
   "source": [
    "start_state = (1, 2, 3, 4, 5, 6, 7, 8, 0)\n",
    "goal_state = (1, 2, 3, 0, 5, 6, 7, 8, 4)\n",
    "\n",
    "solution = iddfs(start_state, goal_state)\n",
    "if solution:\n",
    "    print(\"Solution found!\")\n",
    "    for step in solution:\n",
    "        print(step)\n",
    "else:\n",
    "    print(\"No solution found.\")"
   ]
  },
  {
   "cell_type": "code",
   "execution_count": null,
   "id": "55ffd6bb",
   "metadata": {
    "id": "55ffd6bb"
   },
   "outputs": [],
   "source": []
  }
 ],
 "metadata": {
  "colab": {
   "provenance": []
  },
  "kernelspec": {
   "display_name": "Python 3 (ipykernel)",
   "language": "python",
   "name": "python3"
  },
  "language_info": {
   "codemirror_mode": {
    "name": "ipython",
    "version": 3
   },
   "file_extension": ".py",
   "mimetype": "text/x-python",
   "name": "python",
   "nbconvert_exporter": "python",
   "pygments_lexer": "ipython3",
   "version": "3.11.5"
  }
 },
 "nbformat": 4,
 "nbformat_minor": 5
}
