{
 "cells": [
  {
   "cell_type": "code",
   "execution_count": 1,
   "id": "67c4a8b9",
   "metadata": {},
   "outputs": [],
   "source": [
    "from collections import deque\n",
    "\n",
    "def is_valid(state):\n",
    "    boat, cabbage, goat, wolf = state\n",
    "    \n",
    "    # Check if goat is left alone with the wolf or the cabbage\n",
    "    if goat == wolf and goat != boat:  # Goat alone with wolf\n",
    "        return False\n",
    "    if goat == cabbage and goat != boat:  # Goat alone with cabbage\n",
    "        return False\n",
    "    return True\n",
    "\n",
    "def get_next_states(state):\n",
    "    boat, cabbage, goat, wolf = state\n",
    "    next_states = []\n",
    "    \n",
    "    # Generate possible moves\n",
    "    possible_moves = [\n",
    "        (1 - boat, cabbage, goat, wolf),  # Move yourself alone\n",
    "        (1 - boat, 1 - cabbage, goat, wolf) if cabbage == boat else None,  # Move with cabbage\n",
    "        (1 - boat, cabbage, 1 - goat, wolf) if goat == boat else None,  # Move with goat\n",
    "        (1 - boat, cabbage, goat, 1 - wolf) if wolf == boat else None  # Move with wolf\n",
    "    ]\n",
    "    \n",
    "    # Filter valid moves\n",
    "    for move in possible_moves:\n",
    "        if move and is_valid(move):\n",
    "            next_states.append(move)\n",
    "    \n",
    "    return next_states\n",
    "\n",
    "def solve_wolf_goat_cabbage():\n",
    "\n",
    "    start_state = (1, 1, 1, 1)\n",
    "    goal_state = (0, 0, 0, 0)\n",
    "    queue = deque([(start_state, [start_state])])\n",
    "    \n",
    "    visited = set([start_state])\n",
    "    \n",
    "    # BFS loop\n",
    "    while queue:\n",
    "        current_state, path = queue.popleft()\n",
    "        \n",
    "        # Check if goal is reached\n",
    "        if current_state == goal_state:\n",
    "            return path\n",
    "        \n",
    "        # Get valid next states\n",
    "        for next_state in get_next_states(current_state):\n",
    "            if next_state not in visited:\n",
    "                visited.add(next_state)\n",
    "                queue.append((next_state, path + [next_state]))\n",
    "    \n",
    "    # No solution found\n",
    "    return None"
   ]
  },
  {
   "cell_type": "code",
   "execution_count": 2,
   "id": "bad8d0da",
   "metadata": {},
   "outputs": [
    {
     "name": "stdout",
     "output_type": "stream",
     "text": [
      "Solution found:\n",
      "Boat: Left, Cabbage: Left, Goat: Left, Wolf: Left\n",
      "Boat: Right, Cabbage: Left, Goat: Right, Wolf: Left\n",
      "Boat: Left, Cabbage: Left, Goat: Right, Wolf: Left\n",
      "Boat: Right, Cabbage: Right, Goat: Right, Wolf: Left\n",
      "Boat: Left, Cabbage: Right, Goat: Left, Wolf: Left\n",
      "Boat: Right, Cabbage: Right, Goat: Left, Wolf: Right\n",
      "Boat: Left, Cabbage: Right, Goat: Left, Wolf: Right\n",
      "Boat: Right, Cabbage: Right, Goat: Right, Wolf: Right\n"
     ]
    }
   ],
   "source": [
    "def print_solution(solution):\n",
    "    if solution:\n",
    "        print(\"Solution found:\")\n",
    "        for state in solution:\n",
    "            print(f\"Boat: {'Left' if state[0] else 'Right'}, \"\n",
    "                  f\"Cabbage: {'Left' if state[1] else 'Right'}, \"\n",
    "                  f\"Goat: {'Left' if state[2] else 'Right'}, \"\n",
    "                  f\"Wolf: {'Left' if state[3] else 'Right'}\")\n",
    "    else:\n",
    "        print(\"No solution found.\")\n",
    "\n",
    "# Run the solver\n",
    "solution = solve_wolf_goat_cabbage()\n",
    "print_solution(solution)"
   ]
  },
  {
   "cell_type": "code",
   "execution_count": null,
   "id": "60464bda",
   "metadata": {},
   "outputs": [],
   "source": []
  },
  {
   "cell_type": "code",
   "execution_count": null,
   "id": "bdcaf28c",
   "metadata": {},
   "outputs": [],
   "source": []
  }
 ],
 "metadata": {
  "kernelspec": {
   "display_name": "Python 3 (ipykernel)",
   "language": "python",
   "name": "python3"
  },
  "language_info": {
   "codemirror_mode": {
    "name": "ipython",
    "version": 3
   },
   "file_extension": ".py",
   "mimetype": "text/x-python",
   "name": "python",
   "nbconvert_exporter": "python",
   "pygments_lexer": "ipython3",
   "version": "3.11.5"
  }
 },
 "nbformat": 4,
 "nbformat_minor": 5
}
