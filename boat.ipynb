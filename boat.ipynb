{
 "cells": [
  {
   "cell_type": "code",
   "execution_count": 2,
   "id": "140a0892",
   "metadata": {},
   "outputs": [],
   "source": [
    "def solve_missionaries_and_cannibals():\n",
    "    from collections import deque\n",
    "    initial_state = (3, 3, 'L')\n",
    "    goal_state = (0, 0, 'R')\n",
    "    \n",
    "    queue = deque([(initial_state, [initial_state])])\n",
    "    \n",
    "    visited = set([initial_state])\n",
    "    \n",
    "    while queue:\n",
    "        (m, c, boat), path = queue.popleft()\n",
    "        \n",
    "        # Check if we have reached the goal\n",
    "        if (m, c, boat) == goal_state:\n",
    "            return path\n",
    "        \n",
    "        # Generate next possible states\n",
    "        for new_state in generate_valid_moves(m, c, boat):\n",
    "            if new_state not in visited:\n",
    "                visited.add(new_state)\n",
    "                queue.append((new_state, path + [new_state]))\n",
    "    \n",
    "    # No solution found\n",
    "    return None\n",
    "\n",
    "def generate_valid_moves(m, c, boat):\n",
    "    moves = []\n",
    "    if boat == 'L':\n",
    "        possible_moves = [(m-2, c, 'R'), (m, c-2, 'R'), (m-1, c-1, 'R'), (m-1, c, 'R'), (m, c-1, 'R')]\n",
    "    else:\n",
    "        possible_moves = [(m+2, c, 'L'), (m, c+2, 'L'), (m+1, c+1, 'L'), (m+1, c, 'L'), (m, c+1, 'L')]\n",
    "    \n",
    "    # Check for valid states\n",
    "    for new_m, new_c, new_boat in possible_moves:\n",
    "        if 0 <= new_m <= 3 and 0 <= new_c <= 3: \n",
    "            if new_m == 0 or new_m >= new_c: \n",
    "                if (3 - new_m) == 0 or (3 - new_m) >= (3 - new_c):\n",
    "                    \n",
    "                    moves.append((new_m, new_c, new_boat))\n",
    "    \n",
    "    return moves\n"
   ]
  },
  {
   "cell_type": "code",
   "execution_count": 3,
   "id": "9694225c",
   "metadata": {},
   "outputs": [
    {
     "name": "stdout",
     "output_type": "stream",
     "text": [
      "Solution path:\n",
      "(3, 3, 'L')\n",
      "(3, 1, 'R')\n",
      "(3, 2, 'L')\n",
      "(3, 0, 'R')\n",
      "(3, 1, 'L')\n",
      "(1, 1, 'R')\n",
      "(2, 2, 'L')\n",
      "(0, 2, 'R')\n",
      "(0, 3, 'L')\n",
      "(0, 1, 'R')\n",
      "(1, 1, 'L')\n",
      "(0, 0, 'R')\n"
     ]
    }
   ],
   "source": [
    "solution = solve_missionaries_and_cannibals()\n",
    "if solution:\n",
    "    print(\"Solution path:\")\n",
    "    for state in solution:\n",
    "        print(state)\n",
    "else:\n",
    "    print(\"No solution found.\")"
   ]
  }
 ],
 "metadata": {
  "kernelspec": {
   "display_name": "Python 3 (ipykernel)",
   "language": "python",
   "name": "python3"
  },
  "language_info": {
   "codemirror_mode": {
    "name": "ipython",
    "version": 3
   },
   "file_extension": ".py",
   "mimetype": "text/x-python",
   "name": "python",
   "nbconvert_exporter": "python",
   "pygments_lexer": "ipython3",
   "version": "3.11.5"
  }
 },
 "nbformat": 4,
 "nbformat_minor": 5
}
